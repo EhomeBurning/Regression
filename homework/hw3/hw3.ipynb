{
 "cells": [
  {
   "cell_type": "code",
   "execution_count": 2,
   "metadata": {
    "collapsed": true
   },
   "outputs": [],
   "source": [
    "library(faraway)\n",
    "data(sat)"
   ]
  },
  {
   "cell_type": "code",
   "execution_count": 3,
   "metadata": {},
   "outputs": [
    {
     "data": {
      "text/plain": [
       "     expend          ratio           salary          takers     \n",
       " Min.   :3.656   Min.   :13.80   Min.   :25.99   Min.   : 4.00  \n",
       " 1st Qu.:4.882   1st Qu.:15.22   1st Qu.:30.98   1st Qu.: 9.00  \n",
       " Median :5.768   Median :16.60   Median :33.29   Median :28.00  \n",
       " Mean   :5.905   Mean   :16.86   Mean   :34.83   Mean   :35.24  \n",
       " 3rd Qu.:6.434   3rd Qu.:17.57   3rd Qu.:38.55   3rd Qu.:63.00  \n",
       " Max.   :9.774   Max.   :24.30   Max.   :50.05   Max.   :81.00  \n",
       "     verbal           math           total       \n",
       " Min.   :401.0   Min.   :443.0   Min.   : 844.0  \n",
       " 1st Qu.:427.2   1st Qu.:474.8   1st Qu.: 897.2  \n",
       " Median :448.0   Median :497.5   Median : 945.5  \n",
       " Mean   :457.1   Mean   :508.8   Mean   : 965.9  \n",
       " 3rd Qu.:490.2   3rd Qu.:539.5   3rd Qu.:1032.0  \n",
       " Max.   :516.0   Max.   :592.0   Max.   :1107.0  "
      ]
     },
     "metadata": {},
     "output_type": "display_data"
    }
   ],
   "source": [
    "summary(sat)"
   ]
  },
  {
   "cell_type": "code",
   "execution_count": 4,
   "metadata": {
    "collapsed": true
   },
   "outputs": [],
   "source": [
    "help(sat)\n",
    "attach(sat)"
   ]
  },
  {
   "cell_type": "code",
   "execution_count": 5,
   "metadata": {},
   "outputs": [
    {
     "data": {
      "text/html": [
       "<table>\n",
       "<thead><tr><th></th><th scope=col>expend</th><th scope=col>ratio</th><th scope=col>salary</th><th scope=col>takers</th><th scope=col>verbal</th><th scope=col>math</th><th scope=col>total</th></tr></thead>\n",
       "<tbody>\n",
       "\t<tr><th scope=row>Alabama</th><td>4.405 </td><td>17.2  </td><td>31.144</td><td> 8    </td><td>491   </td><td>538   </td><td>1029  </td></tr>\n",
       "\t<tr><th scope=row>Alaska</th><td>8.963 </td><td>17.6  </td><td>47.951</td><td>47    </td><td>445   </td><td>489   </td><td> 934  </td></tr>\n",
       "\t<tr><th scope=row>Arizona</th><td>4.778 </td><td>19.3  </td><td>32.175</td><td>27    </td><td>448   </td><td>496   </td><td> 944  </td></tr>\n",
       "\t<tr><th scope=row>Arkansas</th><td>4.459 </td><td>17.1  </td><td>28.934</td><td> 6    </td><td>482   </td><td>523   </td><td>1005  </td></tr>\n",
       "\t<tr><th scope=row>California</th><td>4.992 </td><td>24.0  </td><td>41.078</td><td>45    </td><td>417   </td><td>485   </td><td> 902  </td></tr>\n",
       "\t<tr><th scope=row>Colorado</th><td>5.443 </td><td>18.4  </td><td>34.571</td><td>29    </td><td>462   </td><td>518   </td><td> 980  </td></tr>\n",
       "</tbody>\n",
       "</table>\n"
      ],
      "text/latex": [
       "\\begin{tabular}{r|lllllll}\n",
       "  & expend & ratio & salary & takers & verbal & math & total\\\\\n",
       "\\hline\n",
       "\tAlabama & 4.405  & 17.2   & 31.144 &  8     & 491    & 538    & 1029  \\\\\n",
       "\tAlaska & 8.963  & 17.6   & 47.951 & 47     & 445    & 489    &  934  \\\\\n",
       "\tArizona & 4.778  & 19.3   & 32.175 & 27     & 448    & 496    &  944  \\\\\n",
       "\tArkansas & 4.459  & 17.1   & 28.934 &  6     & 482    & 523    & 1005  \\\\\n",
       "\tCalifornia & 4.992  & 24.0   & 41.078 & 45     & 417    & 485    &  902  \\\\\n",
       "\tColorado & 5.443  & 18.4   & 34.571 & 29     & 462    & 518    &  980  \\\\\n",
       "\\end{tabular}\n"
      ],
      "text/markdown": [
       "\n",
       "| <!--/--> | expend | ratio | salary | takers | verbal | math | total | \n",
       "|---|---|---|---|---|---|\n",
       "| Alabama | 4.405  | 17.2   | 31.144 |  8     | 491    | 538    | 1029   | \n",
       "| Alaska | 8.963  | 17.6   | 47.951 | 47     | 445    | 489    |  934   | \n",
       "| Arizona | 4.778  | 19.3   | 32.175 | 27     | 448    | 496    |  944   | \n",
       "| Arkansas | 4.459  | 17.1   | 28.934 |  6     | 482    | 523    | 1005   | \n",
       "| California | 4.992  | 24.0   | 41.078 | 45     | 417    | 485    |  902   | \n",
       "| Colorado | 5.443  | 18.4   | 34.571 | 29     | 462    | 518    |  980   | \n",
       "\n",
       "\n"
      ],
      "text/plain": [
       "           expend ratio salary takers verbal math total\n",
       "Alabama    4.405  17.2  31.144  8     491    538  1029 \n",
       "Alaska     8.963  17.6  47.951 47     445    489   934 \n",
       "Arizona    4.778  19.3  32.175 27     448    496   944 \n",
       "Arkansas   4.459  17.1  28.934  6     482    523  1005 \n",
       "California 4.992  24.0  41.078 45     417    485   902 \n",
       "Colorado   5.443  18.4  34.571 29     462    518   980 "
      ]
     },
     "metadata": {},
     "output_type": "display_data"
    }
   ],
   "source": [
    "head(sat)"
   ]
  },
  {
   "cell_type": "code",
   "execution_count": 27,
   "metadata": {},
   "outputs": [],
   "source": [
    "h1 <- lm(total ~ takers + ratio + salary)"
   ]
  },
  {
   "cell_type": "code",
   "execution_count": 28,
   "metadata": {},
   "outputs": [
    {
     "data": {
      "text/plain": [
       "\n",
       "Call:\n",
       "lm(formula = total ~ takers + ratio + salary)\n",
       "\n",
       "Coefficients:\n",
       "(Intercept)       takers        ratio       salary  \n",
       "   1057.898       -2.913       -4.639        2.552  \n"
      ]
     },
     "metadata": {},
     "output_type": "display_data"
    }
   ],
   "source": [
    "h1"
   ]
  },
  {
   "cell_type": "code",
   "execution_count": 29,
   "metadata": {},
   "outputs": [
    {
     "data": {
      "text/plain": [
       "\n",
       "Call:\n",
       "lm(formula = total ~ takers + ratio + salary)\n",
       "\n",
       "Residuals:\n",
       "    Min      1Q  Median      3Q     Max \n",
       "-89.244 -21.485  -0.798  17.685  68.262 \n",
       "\n",
       "Coefficients:\n",
       "             Estimate Std. Error t value Pr(>|t|)    \n",
       "(Intercept) 1057.8982    44.3287  23.865   <2e-16 ***\n",
       "takers        -2.9134     0.2282 -12.764   <2e-16 ***\n",
       "ratio         -4.6394     2.1215  -2.187   0.0339 *  \n",
       "salary         2.5525     1.0045   2.541   0.0145 *  \n",
       "---\n",
       "Signif. codes:  0 ‘***’ 0.001 ‘**’ 0.01 ‘*’ 0.05 ‘.’ 0.1 ‘ ’ 1\n",
       "\n",
       "Residual standard error: 32.41 on 46 degrees of freedom\n",
       "Multiple R-squared:  0.8239,\tAdjusted R-squared:  0.8124 \n",
       "F-statistic: 71.72 on 3 and 46 DF,  p-value: < 2.2e-16\n"
      ]
     },
     "metadata": {},
     "output_type": "display_data"
    }
   ],
   "source": [
    "summary(h1)"
   ]
  },
  {
   "cell_type": "code",
   "execution_count": 20,
   "metadata": {
    "collapsed": true
   },
   "outputs": [],
   "source": [
    "h0 <- lm(total ~ takers + ratio)"
   ]
  },
  {
   "cell_type": "code",
   "execution_count": 21,
   "metadata": {},
   "outputs": [
    {
     "data": {
      "text/plain": [
       "\n",
       "Call:\n",
       "lm(formula = total ~ takers + ratio)\n",
       "\n",
       "Residuals:\n",
       "    Min      1Q  Median      3Q     Max \n",
       "-88.053 -23.427   3.057  18.332  58.242 \n",
       "\n",
       "Coefficients:\n",
       "             Estimate Std. Error t value Pr(>|t|)    \n",
       "(Intercept) 1118.5087    39.4733  28.336   <2e-16 ***\n",
       "takers        -2.5474     0.1871 -13.618   <2e-16 ***\n",
       "ratio         -3.7264     2.2089  -1.687   0.0982 .  \n",
       "---\n",
       "Signif. codes:  0 ‘***’ 0.001 ‘**’ 0.01 ‘*’ 0.05 ‘.’ 0.1 ‘ ’ 1\n",
       "\n",
       "Residual standard error: 34.24 on 47 degrees of freedom\n",
       "Multiple R-squared:  0.7991,\tAdjusted R-squared:  0.7906 \n",
       "F-statistic:  93.5 on 2 and 47 DF,  p-value: < 2.2e-16\n"
      ]
     },
     "metadata": {},
     "output_type": "display_data"
    }
   ],
   "source": [
    "summary(h0)"
   ]
  },
  {
   "cell_type": "code",
   "execution_count": 22,
   "metadata": {},
   "outputs": [
    {
     "data": {
      "text/html": [
       "<table>\n",
       "<thead><tr><th scope=col>Res.Df</th><th scope=col>RSS</th><th scope=col>Df</th><th scope=col>Sum of Sq</th><th scope=col>F</th><th scope=col>Pr(&gt;F)</th></tr></thead>\n",
       "<tbody>\n",
       "\t<tr><td>47        </td><td>55096.98  </td><td>NA        </td><td>      NA  </td><td>      NA  </td><td>        NA</td></tr>\n",
       "\t<tr><td>46        </td><td>48315.37  </td><td> 1        </td><td>6781.615  </td><td>6.456626  </td><td>0.01449126</td></tr>\n",
       "</tbody>\n",
       "</table>\n"
      ],
      "text/latex": [
       "\\begin{tabular}{r|llllll}\n",
       " Res.Df & RSS & Df & Sum of Sq & F & Pr(>F)\\\\\n",
       "\\hline\n",
       "\t 47         & 55096.98   & NA         &       NA   &       NA   &         NA\\\\\n",
       "\t 46         & 48315.37   &  1         & 6781.615   & 6.456626   & 0.01449126\\\\\n",
       "\\end{tabular}\n"
      ],
      "text/markdown": [
       "\n",
       "Res.Df | RSS | Df | Sum of Sq | F | Pr(>F) | \n",
       "|---|---|\n",
       "| 47         | 55096.98   | NA         |       NA   |       NA   |         NA | \n",
       "| 46         | 48315.37   |  1         | 6781.615   | 6.456626   | 0.01449126 | \n",
       "\n",
       "\n"
      ],
      "text/plain": [
       "  Res.Df RSS      Df Sum of Sq F        Pr(>F)    \n",
       "1 47     55096.98 NA       NA        NA         NA\n",
       "2 46     48315.37  1 6781.615  6.456626 0.01449126"
      ]
     },
     "metadata": {},
     "output_type": "display_data"
    }
   ],
   "source": [
    "anova(h0, h1)"
   ]
  },
  {
   "cell_type": "code",
   "execution_count": 23,
   "metadata": {
    "collapsed": true
   },
   "outputs": [],
   "source": [
    "h0 <- lm(total ~ offset(0*takers) + offset(0*ratio) + offset(0*salary))"
   ]
  },
  {
   "cell_type": "code",
   "execution_count": 24,
   "metadata": {},
   "outputs": [
    {
     "data": {
      "text/plain": [
       "\n",
       "Call:\n",
       "lm(formula = total ~ offset(0 * takers) + offset(0 * ratio) + \n",
       "    offset(0 * salary))\n",
       "\n",
       "Residuals:\n",
       "    Min      1Q  Median      3Q     Max \n",
       "-121.92  -68.67  -20.42   66.08  141.08 \n",
       "\n",
       "Coefficients:\n",
       "            Estimate Std. Error t value Pr(>|t|)    \n",
       "(Intercept)   965.92      10.58   91.29   <2e-16 ***\n",
       "---\n",
       "Signif. codes:  0 ‘***’ 0.001 ‘**’ 0.01 ‘*’ 0.05 ‘.’ 0.1 ‘ ’ 1\n",
       "\n",
       "Residual standard error: 74.82 on 49 degrees of freedom\n"
      ]
     },
     "metadata": {},
     "output_type": "display_data"
    }
   ],
   "source": [
    "summary(h0)"
   ]
  },
  {
   "cell_type": "code",
   "execution_count": 25,
   "metadata": {},
   "outputs": [
    {
     "data": {
      "text/html": [
       "<table>\n",
       "<thead><tr><th scope=col>Res.Df</th><th scope=col>RSS</th><th scope=col>Df</th><th scope=col>Sum of Sq</th><th scope=col>F</th><th scope=col>Pr(&gt;F)</th></tr></thead>\n",
       "<tbody>\n",
       "\t<tr><td>49          </td><td>274307.68   </td><td>NA          </td><td>      NA    </td><td>      NA    </td><td>          NA</td></tr>\n",
       "\t<tr><td>46          </td><td> 48315.37   </td><td> 3          </td><td>225992.3    </td><td>71.72077    </td><td>2.262752e-17</td></tr>\n",
       "</tbody>\n",
       "</table>\n"
      ],
      "text/latex": [
       "\\begin{tabular}{r|llllll}\n",
       " Res.Df & RSS & Df & Sum of Sq & F & Pr(>F)\\\\\n",
       "\\hline\n",
       "\t 49           & 274307.68    & NA           &       NA     &       NA     &           NA\\\\\n",
       "\t 46           &  48315.37    &  3           & 225992.3     & 71.72077     & 2.262752e-17\\\\\n",
       "\\end{tabular}\n"
      ],
      "text/markdown": [
       "\n",
       "Res.Df | RSS | Df | Sum of Sq | F | Pr(>F) | \n",
       "|---|---|\n",
       "| 49           | 274307.68    | NA           |       NA     |       NA     |           NA | \n",
       "| 46           |  48315.37    |  3           | 225992.3     | 71.72077     | 2.262752e-17 | \n",
       "\n",
       "\n"
      ],
      "text/plain": [
       "  Res.Df RSS       Df Sum of Sq F        Pr(>F)      \n",
       "1 49     274307.68 NA       NA        NA           NA\n",
       "2 46      48315.37  3 225992.3  71.72077 2.262752e-17"
      ]
     },
     "metadata": {},
     "output_type": "display_data"
    }
   ],
   "source": [
    "anova(h0,h1)"
   ]
  },
  {
   "cell_type": "code",
   "execution_count": 35,
   "metadata": {},
   "outputs": [],
   "source": [
    "conf <- confint(h1, 'salary', level = 0.95)"
   ]
  },
  {
   "cell_type": "code",
   "execution_count": 36,
   "metadata": {},
   "outputs": [
    {
     "data": {
      "text/html": [
       "<table>\n",
       "<thead><tr><th></th><th scope=col>2.5 %</th><th scope=col>97.5 %</th></tr></thead>\n",
       "<tbody>\n",
       "\t<tr><th scope=row>salary</th><td>0.5304797</td><td>4.574461 </td></tr>\n",
       "</tbody>\n",
       "</table>\n"
      ],
      "text/latex": [
       "\\begin{tabular}{r|ll}\n",
       "  & 2.5 \\% & 97.5 \\%\\\\\n",
       "\\hline\n",
       "\tsalary & 0.5304797 & 4.574461 \\\\\n",
       "\\end{tabular}\n"
      ],
      "text/markdown": [
       "\n",
       "| <!--/--> | 2.5 % | 97.5 % | \n",
       "|---|\n",
       "| salary | 0.5304797 | 4.574461  | \n",
       "\n",
       "\n"
      ],
      "text/plain": [
       "       2.5 %     97.5 %  \n",
       "salary 0.5304797 4.574461"
      ]
     },
     "metadata": {},
     "output_type": "display_data"
    }
   ],
   "source": [
    "conf"
   ]
  },
  {
   "cell_type": "code",
   "execution_count": 37,
   "metadata": {
    "collapsed": true
   },
   "outputs": [],
   "source": [
    "conf <- confint(h1, 'salary', level = 0.90)"
   ]
  },
  {
   "cell_type": "code",
   "execution_count": 38,
   "metadata": {},
   "outputs": [
    {
     "data": {
      "text/html": [
       "<table>\n",
       "<thead><tr><th></th><th scope=col>5 %</th><th scope=col>95 %</th></tr></thead>\n",
       "<tbody>\n",
       "\t<tr><th scope=row>salary</th><td>0.8662251</td><td>4.238715 </td></tr>\n",
       "</tbody>\n",
       "</table>\n"
      ],
      "text/latex": [
       "\\begin{tabular}{r|ll}\n",
       "  & 5 \\% & 95 \\%\\\\\n",
       "\\hline\n",
       "\tsalary & 0.8662251 & 4.238715 \\\\\n",
       "\\end{tabular}\n"
      ],
      "text/markdown": [
       "\n",
       "| <!--/--> | 5 % | 95 % | \n",
       "|---|\n",
       "| salary | 0.8662251 | 4.238715  | \n",
       "\n",
       "\n"
      ],
      "text/plain": [
       "       5 %       95 %    \n",
       "salary 0.8662251 4.238715"
      ]
     },
     "metadata": {},
     "output_type": "display_data"
    }
   ],
   "source": [
    "conf"
   ]
  },
  {
   "cell_type": "code",
   "execution_count": 44,
   "metadata": {},
   "outputs": [
    {
     "name": "stderr",
     "output_type": "stream",
     "text": [
      "Warning message:\n",
      "“unable to access index for repository http://cran.us.r-project.org/src/contrib:\n",
      "  internet routines cannot be loaded”Warning message:\n",
      "“package ‘RCurl’ is not available (for R version 3.4.1)”"
     ]
    }
   ],
   "source": [
    "install.packages(\"RCurl\", repos='http://cran.us.r-project.org')"
   ]
  },
  {
   "cell_type": "code",
   "execution_count": 45,
   "metadata": {
    "collapsed": true
   },
   "outputs": [],
   "source": [
    "h1 <- lm(total ~ takers + ratio + salary + expend)"
   ]
  },
  {
   "cell_type": "code",
   "execution_count": 46,
   "metadata": {},
   "outputs": [
    {
     "data": {
      "text/plain": [
       "\n",
       "Call:\n",
       "lm(formula = total ~ takers + ratio + salary + expend)\n",
       "\n",
       "Residuals:\n",
       "    Min      1Q  Median      3Q     Max \n",
       "-90.531 -20.855  -1.746  15.979  66.571 \n",
       "\n",
       "Coefficients:\n",
       "             Estimate Std. Error t value Pr(>|t|)    \n",
       "(Intercept) 1045.9715    52.8698  19.784  < 2e-16 ***\n",
       "takers        -2.9045     0.2313 -12.559 2.61e-16 ***\n",
       "ratio         -3.6242     3.2154  -1.127    0.266    \n",
       "salary         1.6379     2.3872   0.686    0.496    \n",
       "expend         4.4626    10.5465   0.423    0.674    \n",
       "---\n",
       "Signif. codes:  0 ‘***’ 0.001 ‘**’ 0.01 ‘*’ 0.05 ‘.’ 0.1 ‘ ’ 1\n",
       "\n",
       "Residual standard error: 32.7 on 45 degrees of freedom\n",
       "Multiple R-squared:  0.8246,\tAdjusted R-squared:  0.809 \n",
       "F-statistic: 52.88 on 4 and 45 DF,  p-value: < 2.2e-16\n"
      ]
     },
     "metadata": {},
     "output_type": "display_data"
    }
   ],
   "source": [
    "summary(h1)"
   ]
  },
  {
   "cell_type": "code",
   "execution_count": 47,
   "metadata": {
    "collapsed": true
   },
   "outputs": [],
   "source": [
    "h1 <- lm(total ~ takers + offset(0*ratio) + offset(0*salary) + offset(0*expend))"
   ]
  },
  {
   "cell_type": "code",
   "execution_count": 48,
   "metadata": {},
   "outputs": [
    {
     "data": {
      "text/plain": [
       "\n",
       "Call:\n",
       "lm(formula = total ~ takers + offset(0 * ratio) + offset(0 * \n",
       "    salary) + offset(0 * expend))\n",
       "\n",
       "Residuals:\n",
       "    Min      1Q  Median      3Q     Max \n",
       "-79.158 -27.364   3.308  19.876  66.080 \n",
       "\n",
       "Coefficients:\n",
       "             Estimate Std. Error t value Pr(>|t|)    \n",
       "(Intercept) 1053.3204     8.2112  128.28   <2e-16 ***\n",
       "takers        -2.4801     0.1862  -13.32   <2e-16 ***\n",
       "---\n",
       "Signif. codes:  0 ‘***’ 0.001 ‘**’ 0.01 ‘*’ 0.05 ‘.’ 0.1 ‘ ’ 1\n",
       "\n",
       "Residual standard error: 34.89 on 48 degrees of freedom\n",
       "Multiple R-squared:  0.787,\tAdjusted R-squared:  0.7825 \n",
       "F-statistic: 177.3 on 1 and 48 DF,  p-value: < 2.2e-16\n"
      ]
     },
     "metadata": {},
     "output_type": "display_data"
    }
   ],
   "source": [
    "summary(h1)"
   ]
  },
  {
   "cell_type": "code",
   "execution_count": 49,
   "metadata": {
    "collapsed": true
   },
   "outputs": [],
   "source": [
    "h1 <- lm(total ~ takers + ratio + salary)"
   ]
  },
  {
   "cell_type": "code",
   "execution_count": 58,
   "metadata": {},
   "outputs": [],
   "source": [
    "new = data.frame(takers = 35, ratio = 17, salary = c(25:52))\n",
    "predict = predict.lm(h1,new,interval = 'prediction',level = 0.95)"
   ]
  },
  {
   "cell_type": "code",
   "execution_count": 59,
   "metadata": {},
   "outputs": [
    {
     "data": {
      "image/png": "[encoded data removed]",
      "text/plain": [
       "plot without title"
      ]
     },
     "metadata": {},
     "output_type": "display_data"
    }
   ],
   "source": [
    "plot(predict)"
   ]
  },
  {
   "cell_type": "code",
   "execution_count": 61,
   "metadata": {},
   "outputs": [
    {
     "data": {
      "text/html": [
       "<table>\n",
       "<thead><tr><th></th><th scope=col>fit</th><th scope=col>lwr</th><th scope=col>upr</th></tr></thead>\n",
       "<tbody>\n",
       "\t<tr><th scope=row>1</th><td> 940.8724</td><td>872.0433 </td><td>1009.701 </td></tr>\n",
       "\t<tr><th scope=row>2</th><td> 943.4249</td><td>875.1532 </td><td>1011.697 </td></tr>\n",
       "\t<tr><th scope=row>3</th><td> 945.9773</td><td>878.2072 </td><td>1013.747 </td></tr>\n",
       "\t<tr><th scope=row>4</th><td> 948.5298</td><td>881.2043 </td><td>1015.855 </td></tr>\n",
       "\t<tr><th scope=row>5</th><td> 951.0823</td><td>884.1432 </td><td>1018.021 </td></tr>\n",
       "\t<tr><th scope=row>6</th><td> 953.6347</td><td>887.0229 </td><td>1020.247 </td></tr>\n",
       "\t<tr><th scope=row>7</th><td> 956.1872</td><td>889.8427 </td><td>1022.532 </td></tr>\n",
       "\t<tr><th scope=row>8</th><td> 958.7397</td><td>892.6016 </td><td>1024.878 </td></tr>\n",
       "\t<tr><th scope=row>9</th><td> 961.2921</td><td>895.2992 </td><td>1027.285 </td></tr>\n",
       "\t<tr><th scope=row>10</th><td> 963.8446</td><td>897.9351 </td><td>1029.754 </td></tr>\n",
       "\t<tr><th scope=row>11</th><td> 966.3971</td><td>900.5090 </td><td>1032.285 </td></tr>\n",
       "\t<tr><th scope=row>12</th><td> 968.9496</td><td>903.0208 </td><td>1034.878 </td></tr>\n",
       "\t<tr><th scope=row>13</th><td> 971.5020</td><td>905.4708 </td><td>1037.533 </td></tr>\n",
       "\t<tr><th scope=row>14</th><td> 974.0545</td><td>907.8591 </td><td>1040.250 </td></tr>\n",
       "\t<tr><th scope=row>15</th><td> 976.6070</td><td>910.1862 </td><td>1043.028 </td></tr>\n",
       "\t<tr><th scope=row>16</th><td> 979.1594</td><td>912.4528 </td><td>1045.866 </td></tr>\n",
       "\t<tr><th scope=row>17</th><td> 981.7119</td><td>914.6596 </td><td>1048.764 </td></tr>\n",
       "\t<tr><th scope=row>18</th><td> 984.2644</td><td>916.8075 </td><td>1051.721 </td></tr>\n",
       "\t<tr><th scope=row>19</th><td> 986.8168</td><td>918.8976 </td><td>1054.736 </td></tr>\n",
       "\t<tr><th scope=row>20</th><td> 989.3693</td><td>920.9311 </td><td>1057.808 </td></tr>\n",
       "\t<tr><th scope=row>21</th><td> 991.9218</td><td>922.9092 </td><td>1060.934 </td></tr>\n",
       "\t<tr><th scope=row>22</th><td> 994.4743</td><td>924.8333 </td><td>1064.115 </td></tr>\n",
       "\t<tr><th scope=row>23</th><td> 997.0267</td><td>926.7049 </td><td>1067.349 </td></tr>\n",
       "\t<tr><th scope=row>24</th><td> 999.5792</td><td>928.5254 </td><td>1070.633 </td></tr>\n",
       "\t<tr><th scope=row>25</th><td>1002.1317</td><td>930.2965 </td><td>1073.967 </td></tr>\n",
       "\t<tr><th scope=row>26</th><td>1004.6841</td><td>932.0197 </td><td>1077.349 </td></tr>\n",
       "\t<tr><th scope=row>27</th><td>1007.2366</td><td>933.6966 </td><td>1080.777 </td></tr>\n",
       "\t<tr><th scope=row>28</th><td>1009.7891</td><td>935.3290 </td><td>1084.249 </td></tr>\n",
       "</tbody>\n",
       "</table>\n"
      ],
      "text/latex": [
       "\\begin{tabular}{r|lll}\n",
       "  & fit & lwr & upr\\\\\n",
       "\\hline\n",
       "\t1 &  940.8724 & 872.0433  & 1009.701 \\\\\n",
       "\t2 &  943.4249 & 875.1532  & 1011.697 \\\\\n",
       "\t3 &  945.9773 & 878.2072  & 1013.747 \\\\\n",
       "\t4 &  948.5298 & 881.2043  & 1015.855 \\\\\n",
       "\t5 &  951.0823 & 884.1432  & 1018.021 \\\\\n",
       "\t6 &  953.6347 & 887.0229  & 1020.247 \\\\\n",
       "\t7 &  956.1872 & 889.8427  & 1022.532 \\\\\n",
       "\t8 &  958.7397 & 892.6016  & 1024.878 \\\\\n",
       "\t9 &  961.2921 & 895.2992  & 1027.285 \\\\\n",
       "\t10 &  963.8446 & 897.9351  & 1029.754 \\\\\n",
       "\t11 &  966.3971 & 900.5090  & 1032.285 \\\\\n",
       "\t12 &  968.9496 & 903.0208  & 1034.878 \\\\\n",
       "\t13 &  971.5020 & 905.4708  & 1037.533 \\\\\n",
       "\t14 &  974.0545 & 907.8591  & 1040.250 \\\\\n",
       "\t15 &  976.6070 & 910.1862  & 1043.028 \\\\\n",
       "\t16 &  979.1594 & 912.4528  & 1045.866 \\\\\n",
       "\t17 &  981.7119 & 914.6596  & 1048.764 \\\\\n",
       "\t18 &  984.2644 & 916.8075  & 1051.721 \\\\\n",
       "\t19 &  986.8168 & 918.8976  & 1054.736 \\\\\n",
       "\t20 &  989.3693 & 920.9311  & 1057.808 \\\\\n",
       "\t21 &  991.9218 & 922.9092  & 1060.934 \\\\\n",
       "\t22 &  994.4743 & 924.8333  & 1064.115 \\\\\n",
       "\t23 &  997.0267 & 926.7049  & 1067.349 \\\\\n",
       "\t24 &  999.5792 & 928.5254  & 1070.633 \\\\\n",
       "\t25 & 1002.1317 & 930.2965  & 1073.967 \\\\\n",
       "\t26 & 1004.6841 & 932.0197  & 1077.349 \\\\\n",
       "\t27 & 1007.2366 & 933.6966  & 1080.777 \\\\\n",
       "\t28 & 1009.7891 & 935.3290  & 1084.249 \\\\\n",
       "\\end{tabular}\n"
      ],
      "text/markdown": [
       "\n",
       "| <!--/--> | fit | lwr | upr | \n",
       "|---|---|---|---|---|---|---|---|---|---|---|---|---|---|---|---|---|---|---|---|---|---|---|---|---|---|---|---|\n",
       "| 1 |  940.8724 | 872.0433  | 1009.701  | \n",
       "| 2 |  943.4249 | 875.1532  | 1011.697  | \n",
       "| 3 |  945.9773 | 878.2072  | 1013.747  | \n",
       "| 4 |  948.5298 | 881.2043  | 1015.855  | \n",
       "| 5 |  951.0823 | 884.1432  | 1018.021  | \n",
       "| 6 |  953.6347 | 887.0229  | 1020.247  | \n",
       "| 7 |  956.1872 | 889.8427  | 1022.532  | \n",
       "| 8 |  958.7397 | 892.6016  | 1024.878  | \n",
       "| 9 |  961.2921 | 895.2992  | 1027.285  | \n",
       "| 10 |  963.8446 | 897.9351  | 1029.754  | \n",
       "| 11 |  966.3971 | 900.5090  | 1032.285  | \n",
       "| 12 |  968.9496 | 903.0208  | 1034.878  | \n",
       "| 13 |  971.5020 | 905.4708  | 1037.533  | \n",
       "| 14 |  974.0545 | 907.8591  | 1040.250  | \n",
       "| 15 |  976.6070 | 910.1862  | 1043.028  | \n",
       "| 16 |  979.1594 | 912.4528  | 1045.866  | \n",
       "| 17 |  981.7119 | 914.6596  | 1048.764  | \n",
       "| 18 |  984.2644 | 916.8075  | 1051.721  | \n",
       "| 19 |  986.8168 | 918.8976  | 1054.736  | \n",
       "| 20 |  989.3693 | 920.9311  | 1057.808  | \n",
       "| 21 |  991.9218 | 922.9092  | 1060.934  | \n",
       "| 22 |  994.4743 | 924.8333  | 1064.115  | \n",
       "| 23 |  997.0267 | 926.7049  | 1067.349  | \n",
       "| 24 |  999.5792 | 928.5254  | 1070.633  | \n",
       "| 25 | 1002.1317 | 930.2965  | 1073.967  | \n",
       "| 26 | 1004.6841 | 932.0197  | 1077.349  | \n",
       "| 27 | 1007.2366 | 933.6966  | 1080.777  | \n",
       "| 28 | 1009.7891 | 935.3290  | 1084.249  | \n",
       "\n",
       "\n"
      ],
      "text/plain": [
       "   fit       lwr      upr     \n",
       "1   940.8724 872.0433 1009.701\n",
       "2   943.4249 875.1532 1011.697\n",
       "3   945.9773 878.2072 1013.747\n",
       "4   948.5298 881.2043 1015.855\n",
       "5   951.0823 884.1432 1018.021\n",
       "6   953.6347 887.0229 1020.247\n",
       "7   956.1872 889.8427 1022.532\n",
       "8   958.7397 892.6016 1024.878\n",
       "9   961.2921 895.2992 1027.285\n",
       "10  963.8446 897.9351 1029.754\n",
       "11  966.3971 900.5090 1032.285\n",
       "12  968.9496 903.0208 1034.878\n",
       "13  971.5020 905.4708 1037.533\n",
       "14  974.0545 907.8591 1040.250\n",
       "15  976.6070 910.1862 1043.028\n",
       "16  979.1594 912.4528 1045.866\n",
       "17  981.7119 914.6596 1048.764\n",
       "18  984.2644 916.8075 1051.721\n",
       "19  986.8168 918.8976 1054.736\n",
       "20  989.3693 920.9311 1057.808\n",
       "21  991.9218 922.9092 1060.934\n",
       "22  994.4743 924.8333 1064.115\n",
       "23  997.0267 926.7049 1067.349\n",
       "24  999.5792 928.5254 1070.633\n",
       "25 1002.1317 930.2965 1073.967\n",
       "26 1004.6841 932.0197 1077.349\n",
       "27 1007.2366 933.6966 1080.777\n",
       "28 1009.7891 935.3290 1084.249"
      ]
     },
     "metadata": {},
     "output_type": "display_data"
    }
   ],
   "source": [
    "predict\n"
   ]
  },
  {
   "cell_type": "code",
   "execution_count": null,
   "metadata": {
    "collapsed": true
   },
   "outputs": [],
   "source": []
  }
 ],
 "metadata": {
  "kernelspec": {
   "display_name": "R",
   "language": "R",
   "name": "ir"
  },
  "language_info": {
   "codemirror_mode": "r",
   "file_extension": ".r",
   "mimetype": "text/x-r-source",
   "name": "R",
   "pygments_lexer": "r",
   "version": "3.4.1"
  }
 },
 "nbformat": 4,
 "nbformat_minor": 2
}
